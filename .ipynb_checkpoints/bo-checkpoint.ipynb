{
 "cells": [
  {
   "cell_type": "code",
   "execution_count": 3,
   "metadata": {},
   "outputs": [],
   "source": [
    "import pandas as pd\n",
    "import numpy as np\n",
    "import matplotlib.pyplot as plt\n",
    "from __future__ import print_function\n",
    "from __future__ import division\n",
    "from sklearn.cross_validation import cross_val_score\n",
    "from sklearn.ensemble import BaggingClassifier, AdaBoostClassifier\n",
    "from bayes_opt import BayesianOptimization\n",
    "from sklearn.tree import DecisionTreeClassifier\n",
    "from sklearn.preprocessing import OneHotEncoder, LabelEncoder, MinMaxScaler"
   ]
  },
  {
   "cell_type": "code",
   "execution_count": 2,
   "metadata": {},
   "outputs": [],
   "source": [
    "def read_data(train_data_path, dev_data_path, test_data_path):\n",
    "    train_dataset = pd.read_csv(train_data_path, header = None)\n",
    "    dev_dataset = pd.read_csv(dev_data_path, header = None)\n",
    "    test_dataset = pd.read_csv(test_data_path, header = None)\n",
    "    \n",
    "    concat_set = pd.concat([train_dataset, dev_dataset, test_dataset], keys=[0,1,2])\n",
    "    \n",
    "    temp = pd.get_dummies(concat_set, columns = [1,2,3,4,5,6,8])\n",
    "\n",
    "    train, dev, test = temp.xs(0), temp.xs(1), temp.xs(2)\n",
    "\n",
    "    y_train = train[[9]]\n",
    "    y_dev = dev[[9]]\n",
    "    y_test = test[[9]]\n",
    "\n",
    "    y_train = y_train.values.reshape((y_train.shape[0]))\n",
    "    y_dev = y_dev.values.reshape((y_dev.shape[0]))\n",
    "    y_test = y_test.values.reshape((y_test.shape[0]))\n",
    "\n",
    "    train = train.drop([9], axis = 1)\n",
    "    dev = dev.drop([9], axis = 1)\n",
    "    test = test.drop([9], axis = 1)\n",
    "    \n",
    "    X_train = train.iloc[:, :].values\n",
    "\n",
    "    X_dev = dev.iloc[:, :].values\n",
    "\n",
    "    X_test = test.iloc[:, :].values\n",
    "\n",
    "    # Encode Y\n",
    "    labelencoder_y = LabelEncoder()\n",
    "    y_train = labelencoder_y.fit_transform(y_train)\n",
    "    y_dev = labelencoder_y.fit_transform(y_dev)\n",
    "    y_test = labelencoder_y.fit_transform(y_test)\n",
    "\n",
    "    # Convert 0 to -1\n",
    "    y_train[y_train == 0] = -1\n",
    "    y_dev[y_dev == 0] = -1\n",
    "    y_test[y_test == 0] = -1\n",
    "\n",
    "    return (X_train, y_train, X_dev, y_dev, X_test, y_test)"
   ]
  },
  {
   "cell_type": "code",
   "execution_count": null,
   "metadata": {},
   "outputs": [],
   "source": [
    "def dtcv(depth):\n",
    "    val = cross_val_score(\n",
    "        DecisionTreeClassifier(max_depth = depth),\n",
    "        data, target, 'f1', cv = 2\n",
    "    ).mean()\n",
    "\n",
    "    return val\n"
   ]
  }
 ],
 "metadata": {
  "kernelspec": {
   "display_name": "Python 3",
   "language": "python",
   "name": "python3"
  },
  "language_info": {
   "codemirror_mode": {
    "name": "ipython",
    "version": 3
   },
   "file_extension": ".py",
   "mimetype": "text/x-python",
   "name": "python",
   "nbconvert_exporter": "python",
   "pygments_lexer": "ipython3",
   "version": "3.6.6"
  }
 },
 "nbformat": 4,
 "nbformat_minor": 2
}
